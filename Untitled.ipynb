{
 "cells": [
  {
   "cell_type": "code",
   "execution_count": 5,
   "id": "2f31fe5e",
   "metadata": {},
   "outputs": [
    {
     "data": {
      "text/plain": [
       "<Event(4352-AudioDeviceAdded {'which': 0, 'iscapture': 1})>"
      ]
     },
     "execution_count": 5,
     "metadata": {},
     "output_type": "execute_result"
    }
   ],
   "source": [
    "import pygame\n",
    "pygame.init()\n",
    "pygame.mixer.music.load('musica.mp3')\n",
    "pygame.mixer.music.play()\n",
    "pygame.event.wait()"
   ]
  },
  {
   "cell_type": "code",
   "execution_count": 6,
   "id": "dc090e17",
   "metadata": {},
   "outputs": [],
   "source": [
    "import pygame\n",
    "import time\n",
    "\n",
    "pygame.init()\n",
    "pygame.mixer.music.load('musica.mp3')\n",
    "pygame.mixer.music.play()\n",
    "time.sleep(10)\n",
    "pygame.mixer.music.fadeout(5000)"
   ]
  },
  {
   "cell_type": "code",
   "execution_count": null,
   "id": "0b8ba7f5",
   "metadata": {},
   "outputs": [],
   "source": []
  }
 ],
 "metadata": {
  "kernelspec": {
   "display_name": "Python 3 (ipykernel)",
   "language": "python",
   "name": "python3"
  },
  "language_info": {
   "codemirror_mode": {
    "name": "ipython",
    "version": 3
   },
   "file_extension": ".py",
   "mimetype": "text/x-python",
   "name": "python",
   "nbconvert_exporter": "python",
   "pygments_lexer": "ipython3",
   "version": "3.9.16"
  }
 },
 "nbformat": 4,
 "nbformat_minor": 5
}
