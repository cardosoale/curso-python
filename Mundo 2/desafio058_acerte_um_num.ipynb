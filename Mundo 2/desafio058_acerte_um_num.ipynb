{
 "cells": [
  {
   "cell_type": "code",
   "execution_count": 8,
   "metadata": {},
   "outputs": [
    {
     "name": "stdout",
     "output_type": "stream",
     "text": [
      "=-==-==-==-==-==-==-==-==-==-==-==-==-==-==-==-==-==-==-==-=\n",
      "Estou pensando em um número, entre 0 e 5, tente adivinhar!!!\n",
      "=-==-==-==-==-==-==-==-==-==-==-==-==-==-==-==-==-==-==-==-=\n",
      "Que rufem os tambores...\n",
      "Você ERROU!!! Tente novamente: \n",
      "Que rufem os tambores...\n",
      "Parabéns vc acertou, o número que eu pensei foi 1\n"
     ]
    }
   ],
   "source": [
    "from random import randint\n",
    "from time import sleep\n",
    "computador = randint(0,5)\n",
    "jogador = computador +1\n",
    "\n",
    "print('=-=' * 20)\n",
    "print('Estou pensando em um número, entre 0 e 5, tente adivinhar!!!')\n",
    "print('=-=' * 20)\n",
    "while computador != jogador:\n",
    "    jogador = int(input('Qual o número entre 0 e 5 estou pensando? '))\n",
    "    print('Que rufem os tambores...')\n",
    "    sleep(3)\n",
    "    if computador == jogador:\n",
    "        print('Parabéns vc acertou, o número que eu pensei foi {}' .format(computador))\n",
    "    else:\n",
    "        print('Você ERROU!!! Tente novamente: ')"
   ]
  }
 ],
 "metadata": {
  "kernelspec": {
   "display_name": "base",
   "language": "python",
   "name": "python3"
  },
  "language_info": {
   "codemirror_mode": {
    "name": "ipython",
    "version": 3
   },
   "file_extension": ".py",
   "mimetype": "text/x-python",
   "name": "python",
   "nbconvert_exporter": "python",
   "pygments_lexer": "ipython3",
   "version": "3.9.16"
  },
  "orig_nbformat": 4
 },
 "nbformat": 4,
 "nbformat_minor": 2
}
