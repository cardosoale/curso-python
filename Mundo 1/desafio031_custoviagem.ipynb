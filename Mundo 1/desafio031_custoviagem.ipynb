{
 "cells": [
  {
   "cell_type": "code",
   "execution_count": 2,
   "metadata": {},
   "outputs": [
    {
     "name": "stdout",
     "output_type": "stream",
     "text": [
      " O custo para uma viagem de 200km é R$100.0.\n"
     ]
    }
   ],
   "source": [
    "dist = int(input('Digite a distancia da viagem em km: '))\n",
    "custo = dist * 0.5 if dist <= 200 else dist * 0.45\n",
    "print(f' O custo para uma viagem de {dist}km é R${custo}.')\n"
   ]
  },
  {
   "cell_type": "code",
   "execution_count": 8,
   "metadata": {},
   "outputs": [
    {
     "name": "stdout",
     "output_type": "stream",
     "text": [
      "O custo para uma viagem de 201 é R$90.45\n"
     ]
    }
   ],
   "source": [
    "dist = int(input('Digite a distancia da viagem em km: '))\n",
    "if dist <= 200:\n",
    "    custo = dist * 0.5\n",
    "    print(f'O custo para uma viagem de {dist} é R${custo}')\n",
    "else:\n",
    "    custo = dist * 0.45\n",
    "    print(f'O custo para uma viagem de {dist} é R${custo}')\n"
   ]
  }
 ],
 "metadata": {
  "kernelspec": {
   "display_name": "Python 3 (ipykernel)",
   "language": "python",
   "name": "python3"
  },
  "language_info": {
   "codemirror_mode": {
    "name": "ipython",
    "version": 3
   },
   "file_extension": ".py",
   "mimetype": "text/x-python",
   "name": "python",
   "nbconvert_exporter": "python",
   "pygments_lexer": "ipython3",
   "version": "3.9.16"
  },
  "orig_nbformat": 4
 },
 "nbformat": 4,
 "nbformat_minor": 2
}
