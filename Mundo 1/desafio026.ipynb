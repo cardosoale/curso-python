{
 "cells": [
  {
   "cell_type": "code",
   "execution_count": 60,
   "metadata": {},
   "outputs": [
    {
     "name": "stdout",
     "output_type": "stream",
     "text": [
      "A letra A aparece 2 vezes na frase.\n",
      "A letra \"A\" aparece pela primeira vez na posição 1.\n",
      "A ultima letra \"A\" aparece na posição 5.\n"
     ]
    }
   ],
   "source": [
    "fr = str(input('Digite uma frase: ')).upper().strip()\n",
    "print('A letra A aparece {} vezes na frase.' .format(fr.count('A')))\n",
    "print('A letra \"A\" aparece pela primeira vez na posição {}.'.format(fr.find('A')+1))\n",
    "print('A ultima letra \"A\" aparece na posição {}.' .format(fr.rfind('A')+1))"
   ]
  },
  {
   "cell_type": "code",
   "execution_count": 71,
   "metadata": {},
   "outputs": [
    {
     "name": "stdout",
     "output_type": "stream",
     "text": [
      "Na frase \"ALEXANDRE CARDOSO\". A letra A aparece 3 vezes na frase, sendo a primeira vez na posição 1 e pela ultima na posição 12.\n"
     ]
    }
   ],
   "source": [
    "fr = str(input('Digite uma frase: ')).upper().strip()\n",
    "print('Na frase \"{}\". A letra A aparece {}, sendo a primeira vez na posição {} e pela ultima na posição {}.'.format(fr, fr.count('A'), fr.find('A')+1,fr.rfind('A')+1))\n"
   ]
  }
 ],
 "metadata": {
  "kernelspec": {
   "display_name": "Python 3 (ipykernel)",
   "language": "python",
   "name": "python3"
  },
  "language_info": {
   "codemirror_mode": {
    "name": "ipython",
    "version": 3
   },
   "file_extension": ".py",
   "mimetype": "text/x-python",
   "name": "python",
   "nbconvert_exporter": "python",
   "pygments_lexer": "ipython3",
   "version": "3.9.16"
  },
  "orig_nbformat": 4
 },
 "nbformat": 4,
 "nbformat_minor": 2
}
