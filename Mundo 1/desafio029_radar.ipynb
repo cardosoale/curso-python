{
 "cells": [
  {
   "cell_type": "code",
   "execution_count": 6,
   "metadata": {},
   "outputs": [
    {
     "name": "stdout",
     "output_type": "stream",
     "text": [
      "Você excedeu a velocidade máxima permitida e foi multado.\n",
      "O valor da multa a ser pago é R$140.00.\n",
      "Tenha um bom dia, dirija com segurança.\n"
     ]
    }
   ],
   "source": [
    "velocidade = float(input('Qual a velocidade do carro? '))\n",
    "if velocidade > 80:\n",
    "    print('Você excedeu a velocidade máxima permitida e foi multado.')\n",
    "    multa = (velocidade - 80) * 7\n",
    "    print(f'O valor da multa a ser pago é R${multa:.2f}.')\n",
    "print('Tenha um bom dia, dirija com segurança.')"
   ]
  }
 ],
 "metadata": {
  "kernelspec": {
   "display_name": "Python 3 (ipykernel)",
   "language": "python",
   "name": "python3"
  },
  "language_info": {
   "codemirror_mode": {
    "name": "ipython",
    "version": 3
   },
   "file_extension": ".py",
   "mimetype": "text/x-python",
   "name": "python",
   "nbconvert_exporter": "python",
   "pygments_lexer": "ipython3",
   "version": "3.9.16"
  },
  "orig_nbformat": 4
 },
 "nbformat": 4,
 "nbformat_minor": 2
}
