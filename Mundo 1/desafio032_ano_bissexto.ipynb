{
 "cells": [
  {
   "cell_type": "code",
   "execution_count": 6,
   "metadata": {},
   "outputs": [
    {
     "name": "stdout",
     "output_type": "stream",
     "text": [
      "o ano 1500 não é bissexto\n"
     ]
    }
   ],
   "source": [
    "from datetime import date\n",
    "ano = int(input('Digite o ano que você quer analisar: '))\n",
    "if ano == 0:\n",
    "    ano = date.today().year\n",
    "if ano %4 == 0 and ano % 100 != 0 or ano % 400 == 0:\n",
    "    print(f'O ano {ano} é Bissexto')\n",
    "else: print(f'O ano {ano} não é bissexto')\n"
   ]
  }
 ],
 "metadata": {
  "kernelspec": {
   "display_name": "Python 3 (ipykernel)",
   "language": "python",
   "name": "python3"
  },
  "orig_nbformat": 4
 },
 "nbformat": 4,
 "nbformat_minor": 2
}
